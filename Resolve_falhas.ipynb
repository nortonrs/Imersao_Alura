{
  "nbformat": 4,
  "nbformat_minor": 0,
  "metadata": {
    "colab": {
      "provenance": [],
      "authorship_tag": "ABX9TyPEt3Cyc8Qi9Z5j/ylTCYoa",
      "include_colab_link": true
    },
    "kernelspec": {
      "name": "python3",
      "display_name": "Python 3"
    },
    "language_info": {
      "name": "python"
    }
  },
  "cells": [
    {
      "cell_type": "markdown",
      "metadata": {
        "id": "view-in-github",
        "colab_type": "text"
      },
      "source": [
        "<a href=\"https://colab.research.google.com/github/nortonrs/Imersao_Alura/blob/main/Resolve_falhas.ipynb\" target=\"_parent\"><img src=\"https://colab.research.google.com/assets/colab-badge.svg\" alt=\"Open In Colab\"/></a>"
      ]
    },
    {
      "cell_type": "code",
      "execution_count": 3,
      "metadata": {
        "id": "eD-DLd4sa8kL",
        "colab": {
          "base_uri": "https://localhost:8080/"
        },
        "outputId": "a61e6c71-5663-439a-f783-4d15d77ab693"
      },
      "outputs": [
        {
          "output_type": "stream",
          "name": "stdout",
          "text": [
            "Selecione o problema encontrado:\n",
            "1. Áudio interno\n",
            "2. Áudio externo\n",
            "3. Microfone\n",
            "4. Bluetooth\n",
            "5. Wireless\n",
            "6. HDD não reconhece\n",
            "7. Sem vídeo\n",
            "8. BSOD (tela azul )\n",
            "9. Teclado\n",
            "10. Câmera\n",
            "11. LCD\n",
            "12. Cartão SD\n",
            "13. Cartão MS\n",
            "14. Tela Distorcida\n",
            "15. Liga/desliga\n",
            "16. Não inicia Windows\n",
            "17. Não liga\n",
            "18. Touch pad\n",
            "19. USB\n",
            "20. DVD\n",
            "21. Rede\n",
            "Digite o número do problema: 15\n",
            "\n",
            "**Ações para Liga/desliga:**\n",
            "Unnamed: 1    Verificar se o processador está presente e tra...\n",
            "Unnamed: 2           Verificar se não há plástico no dissipador\n",
            "Unnamed: 3                                  Reassentar memórias\n",
            "Unnamed: 4                                  Substituir memórias\n",
            "Unnamed: 5                               Substituir processador\n",
            "Unnamed: 6                               Substituir placa power\n",
            "Name: 14, dtype: object\n",
            "Problema foi solucionado? (Sim/Não): n\n",
            "O equipamento deve ser enviado ao EMR\n"
          ]
        }
      ],
      "source": [
        "# Import the Python SDK\n",
        "import google.generativeai as genai\n",
        "# Used to securely store your API key\n",
        "from google.colab import userdata\n",
        "\n",
        "GOOGLE_API_KEY=userdata.get('GOOGLE_API_KEY')\n",
        "genai.configure(api_key=GOOGLE_API_KEY)\n",
        "\n",
        "import pandas as pd\n",
        "\n",
        "# Carregar a planilha de ações\n",
        "df = pd.read_excel(\"planilha_manutencao.xlsx\")\n",
        "\n",
        "# Exibir as opções de falhas para o usuário\n",
        "print(\"Selecione o problema encontrado:\")\n",
        "for index, falha in enumerate(df[\"FALHA\"]):\n",
        "    print(f\"{index+1}. {falha}\")\n",
        "\n",
        "# Obter a escolha do usuário\n",
        "escolha = int(input(\"Digite o número do problema: \")) - 1\n",
        "\n",
        "# Exibir as ações para a falha selecionada\n",
        "print(f\"\\n**Ações para {df['FALHA'][escolha]}:**\")\n",
        "print(df.iloc[escolha, 1:])\n",
        "\n",
        "# Verificar se o problema foi solucionado\n",
        "solucionado = input(\"Problema foi solucionado? (Sim/Não): \")\n",
        "\n",
        "# Resposta com base na solução\n",
        "if solucionado.lower() == \"sim\":\n",
        "    print(\"OK\")\n",
        "else:\n",
        "    print(\"O equipamento deve ser enviado ao EMR\")"
      ]
    }
  ]
}